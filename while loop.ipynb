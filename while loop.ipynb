{
 "cells": [
  {
   "cell_type": "code",
   "execution_count": 1,
   "id": "6b9bdc3f-c66f-4bd7-9482-fd343f54dea4",
   "metadata": {},
   "outputs": [
    {
     "name": "stdout",
     "output_type": "stream",
     "text": [
      "1\n",
      "2\n",
      "3\n",
      "4\n",
      "5\n",
      "6\n",
      "7\n",
      "8\n",
      "9\n",
      "10\n"
     ]
    }
   ],
   "source": [
    "a=1\n",
    "while a<=10:\n",
    "    print(a)\n",
    "    a=a+1"
   ]
  },
  {
   "cell_type": "code",
   "execution_count": 8,
   "id": "32ff208e-d249-43a4-8831-c7844b18aa6a",
   "metadata": {},
   "outputs": [
    {
     "data": {
      "text/plain": [
       "66"
      ]
     },
     "execution_count": 8,
     "metadata": {},
     "output_type": "execute_result"
    }
   ],
   "source": [
    "\n",
    "starting_point=0\n",
    "counter=1\n",
    "while counter<=11:\n",
    "    starting_point=starting_point+counter\n",
    "    counter=counter+1\n",
    "starting_point"
   ]
  },
  {
   "cell_type": "code",
   "execution_count": 12,
   "id": "cf46801e-66c6-4a6a-84a3-dda063b7bef6",
   "metadata": {},
   "outputs": [
    {
     "name": "stdin",
     "output_type": "stream",
     "text": [
      "enter your number 4\n"
     ]
    },
    {
     "data": {
      "text/plain": [
       "0"
      ]
     },
     "execution_count": 12,
     "metadata": {},
     "output_type": "execute_result"
    }
   ],
   "source": [
    "number=int(input(\"enter your number\"))\n",
    "factorial=1\n",
    "while factorial>0:\n",
    "    factorial=factorial*number\n",
    "    number=number-1\n",
    "factorial"
   ]
  },
  {
   "cell_type": "code",
   "execution_count": 17,
   "id": "5ef02e9d-20d9-4e4d-8a7f-c799cb79af7a",
   "metadata": {},
   "outputs": [
    {
     "name": "stdin",
     "output_type": "stream",
     "text": [
      "enter your numbr 5\n"
     ]
    },
    {
     "data": {
      "text/plain": [
       "120"
      ]
     },
     "execution_count": 17,
     "metadata": {},
     "output_type": "execute_result"
    }
   ],
   "source": [
    "number=int(input(\"enter your numbr\"))\n",
    "factorial=1\n",
    "while number > 0:\n",
    "    factorial=factorial*number\n",
    "    number=number-1\n",
    "factorial"
   ]
  },
  {
   "cell_type": "markdown",
   "id": "3a35e429-41eb-4ccd-bc17-85f819297ea9",
   "metadata": {},
   "source": [
    "#finonacci series"
   ]
  },
  {
   "cell_type": "code",
   "execution_count": 23,
   "id": "7bc27291-5471-484d-a1f4-f11b6f6a2171",
   "metadata": {},
   "outputs": [
    {
     "name": "stdin",
     "output_type": "stream",
     "text": [
      "enter the number of element  5\n"
     ]
    },
    {
     "name": "stdout",
     "output_type": "stream",
     "text": [
      "0\n",
      "1\n",
      "1\n",
      "2\n",
      "3\n"
     ]
    }
   ],
   "source": [
    "n=int(input(\"enter the number of element \"))\n",
    "a,b=0,1\n",
    "counter=0\n",
    "while counter<n:\n",
    "    print(a)\n",
    "    c=a+b\n",
    "    a=b\n",
    "    b=c\n",
    "    counter=counter+1\n",
    "    "
   ]
  },
  {
   "cell_type": "code",
   "execution_count": 25,
   "id": "a83e37fa-7fe2-4a3b-85cd-a225b3ccc73b",
   "metadata": {},
   "outputs": [
    {
     "name": "stdin",
     "output_type": "stream",
     "text": [
      "enter your number 3\n"
     ]
    },
    {
     "name": "stdout",
     "output_type": "stream",
     "text": [
      "3 * 1 = 3\n",
      "3 * 2 = 6\n",
      "3 * 3 = 9\n",
      "3 * 4 = 12\n",
      "3 * 5 = 15\n",
      "3 * 6 = 18\n",
      "3 * 7 = 21\n",
      "3 * 8 = 24\n",
      "3 * 9 = 27\n",
      "3 * 10 = 30\n"
     ]
    }
   ],
   "source": [
    "n=int(input(\"enter your number\"))\n",
    "i=1\n",
    "while i  <=10:\n",
    "    result =n*i\n",
    "    print(n,\"*\",i,'=',result)\n",
    "    i=i+1\n",
    "    "
   ]
  },
  {
   "cell_type": "code",
   "execution_count": 27,
   "id": "c7950fd3-0a7a-44cd-ab3f-81e5d17ea4ae",
   "metadata": {},
   "outputs": [
    {
     "name": "stdin",
     "output_type": "stream",
     "text": [
      "enter your word for reversal sonal\n"
     ]
    }
   ],
   "source": [
    "word=input(\"enter your word for reversal\")\n"
   ]
  },
  {
   "cell_type": "code",
   "execution_count": 29,
   "id": "4fb4f27c-3341-46b9-80dd-b6765d3c887d",
   "metadata": {},
   "outputs": [
    {
     "name": "stdout",
     "output_type": "stream",
     "text": [
      "lanos\n"
     ]
    }
   ],
   "source": [
    "reverse=\"\"\n",
    "length=len(word)\n",
    "while length>0:\n",
    "    reverse=reverse+word[length-1]\n",
    "    length=length-1\n",
    "print (reverse)"
   ]
  },
  {
   "cell_type": "code",
   "execution_count": null,
   "id": "0faa5d9b-7974-429a-9ec7-6e36ca5f5db8",
   "metadata": {},
   "outputs": [],
   "source": [
    "n=int(input(\"enter your number\"))\n",
    "startng_point=0\n",
    "counter=1\n",
    "while counter<=10:\n",
    "    starting_point=starting_point+counter\n",
    "    counter=counter+1\n",
    "sarting_point"
   ]
  },
  {
   "cell_type": "code",
   "execution_count": null,
   "id": "5027951d-c08c-493b-81d3-ac8d3e386cd8",
   "metadata": {},
   "outputs": [],
   "source": [
    "l=[12,23,34]"
   ]
  },
  {
   "cell_type": "code",
   "execution_count": null,
   "id": "94c305da-7f08-409d-8a3b-0cec0176574c",
   "metadata": {},
   "outputs": [],
   "source": [
    "l"
   ]
  },
  {
   "cell_type": "code",
   "execution_count": null,
   "id": "329c1926-7072-47b3-a021-aab1c893ed4f",
   "metadata": {},
   "outputs": [],
   "source": []
  }
 ],
 "metadata": {
  "kernelspec": {
   "display_name": "Python 3 (ipykernel)",
   "language": "python",
   "name": "python3"
  },
  "language_info": {
   "codemirror_mode": {
    "name": "ipython",
    "version": 3
   },
   "file_extension": ".py",
   "mimetype": "text/x-python",
   "name": "python",
   "nbconvert_exporter": "python",
   "pygments_lexer": "ipython3",
   "version": "3.10.8"
  }
 },
 "nbformat": 4,
 "nbformat_minor": 5
}
