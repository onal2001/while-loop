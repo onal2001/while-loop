{
 "cells": [
  {
   "cell_type": "code",
   "execution_count": 1,
   "id": "3a7ecb89-909b-4973-808e-7d1cdb49b302",
   "metadata": {},
   "outputs": [],
   "source": [
    "s={\"reets\",True,\"reena\",35.7,98,67,}"
   ]
  },
  {
   "cell_type": "code",
   "execution_count": 3,
   "id": "364acc71-fea8-41be-995a-777634a563ab",
   "metadata": {},
   "outputs": [
    {
     "ename": "AttributeError",
     "evalue": "'dict' object has no attribute 'append'",
     "output_type": "error",
     "traceback": [
      "\u001b[0;31m---------------------------------------------------------------------------\u001b[0m",
      "\u001b[0;31mAttributeError\u001b[0m                            Traceback (most recent call last)",
      "Cell \u001b[0;32mIn[3], line 7\u001b[0m\n\u001b[1;32m      5\u001b[0m     s1\u001b[38;5;241m.\u001b[39mappend(i)\n\u001b[1;32m      6\u001b[0m \u001b[38;5;28;01melse\u001b[39;00m:\n\u001b[0;32m----> 7\u001b[0m     \u001b[43ms2\u001b[49m\u001b[38;5;241;43m.\u001b[39;49m\u001b[43mappend\u001b[49m(i)\n",
      "\u001b[0;31mAttributeError\u001b[0m: 'dict' object has no attribute 'append'"
     ]
    }
   ],
   "source": [
    "s1={}\n",
    "s2={}\n",
    "for i in s:\n",
    "    if type(i)==bool or type(i)==float:\n",
    "        s1.append(i)\n",
    "    else:\n",
    "        s2.append(i)"
   ]
  },
  {
   "cell_type": "code",
   "execution_count": 4,
   "id": "86768ec9-78c8-495d-afcf-b81352845c74",
   "metadata": {},
   "outputs": [
    {
     "data": {
      "text/plain": [
       "['reets', 98, 67, 35.7, True, 'reena']"
      ]
     },
     "execution_count": 4,
     "metadata": {},
     "output_type": "execute_result"
    }
   ],
   "source": [
    "list(s)"
   ]
  },
  {
   "cell_type": "code",
   "execution_count": 5,
   "id": "10a7406f-b632-4bd4-bf9e-94f21207fa94",
   "metadata": {
    "collapsed": true,
    "jupyter": {
     "outputs_hidden": true
    },
    "tags": []
   },
   "outputs": [
    {
     "ename": "NameError",
     "evalue": "name 'l' is not defined",
     "output_type": "error",
     "traceback": [
      "\u001b[0;31m---------------------------------------------------------------------------\u001b[0m",
      "\u001b[0;31mNameError\u001b[0m                                 Traceback (most recent call last)",
      "Cell \u001b[0;32mIn[5], line 3\u001b[0m\n\u001b[1;32m      1\u001b[0m l1\u001b[38;5;241m=\u001b[39m[]\n\u001b[1;32m      2\u001b[0m l2\u001b[38;5;241m=\u001b[39m[]\n\u001b[0;32m----> 3\u001b[0m \u001b[38;5;28;01mfor\u001b[39;00m i \u001b[38;5;129;01min\u001b[39;00m \u001b[43ml\u001b[49m:\n\u001b[1;32m      4\u001b[0m     \u001b[38;5;28;01mif\u001b[39;00m \u001b[38;5;28mtype\u001b[39m(i)\u001b[38;5;241m==\u001b[39m\u001b[38;5;28mfloat\u001b[39m \u001b[38;5;129;01mor\u001b[39;00m \u001b[38;5;28mbool\u001b[39m:\n\u001b[1;32m      5\u001b[0m         l1\u001b[38;5;241m.\u001b[39mappend(i)\n",
      "\u001b[0;31mNameError\u001b[0m: name 'l' is not defined"
     ]
    }
   ],
   "source": [
    "l1=[]\n",
    "l2=[]\n",
    "for i in l:\n",
    "    if type(i)==float or bool:\n",
    "        l1.append(i)\n",
    "    else:\n",
    "        l2.append(i)"
   ]
  },
  {
   "cell_type": "code",
   "execution_count": 6,
   "id": "ab7a72aa-37e3-4acf-9c25-b9b68fcbf4c7",
   "metadata": {},
   "outputs": [
    {
     "data": {
      "text/plain": [
       "{35.7, 67, 98, True, 'reena', 'reets'}"
      ]
     },
     "execution_count": 6,
     "metadata": {},
     "output_type": "execute_result"
    }
   ],
   "source": [
    "s"
   ]
  },
  {
   "cell_type": "code",
   "execution_count": 7,
   "id": "72c7688a-58b9-43fa-9ca5-edfef59f76a9",
   "metadata": {},
   "outputs": [
    {
     "ename": "NameError",
     "evalue": "name 'l' is not defined",
     "output_type": "error",
     "traceback": [
      "\u001b[0;31m---------------------------------------------------------------------------\u001b[0m",
      "\u001b[0;31mNameError\u001b[0m                                 Traceback (most recent call last)",
      "Cell \u001b[0;32mIn[7], line 1\u001b[0m\n\u001b[0;32m----> 1\u001b[0m \u001b[43ml\u001b[49m\n",
      "\u001b[0;31mNameError\u001b[0m: name 'l' is not defined"
     ]
    }
   ],
   "source": [
    "l"
   ]
  },
  {
   "cell_type": "code",
   "execution_count": 8,
   "id": "90b79b6f-a10c-4d95-bc63-a850fdd1892f",
   "metadata": {},
   "outputs": [],
   "source": [
    "l=['reets', 98, 67, 35.7, True, 'reena']"
   ]
  },
  {
   "cell_type": "code",
   "execution_count": 14,
   "id": "63425ed6-491b-49e5-9604-95df80fd2d9f",
   "metadata": {},
   "outputs": [],
   "source": [
    "l1_num=[]\n",
    "l2_str=[]\n",
    "for i in l:\n",
    "    if type(i)==float or int:\n",
    "        l1_num.append(i)\n",
    "    else:\n",
    "        l2_str.append(i)"
   ]
  },
  {
   "cell_type": "code",
   "execution_count": 15,
   "id": "ff5ca905-a33a-4a29-9863-569aac86a4e3",
   "metadata": {},
   "outputs": [
    {
     "data": {
      "text/plain": [
       "['reets', 98, 67, 35.7, True, 'reena']"
      ]
     },
     "execution_count": 15,
     "metadata": {},
     "output_type": "execute_result"
    }
   ],
   "source": [
    "l1_num"
   ]
  },
  {
   "cell_type": "code",
   "execution_count": 16,
   "id": "d4a22058-9374-47b7-b150-83bb42fddbab",
   "metadata": {},
   "outputs": [
    {
     "data": {
      "text/plain": [
       "[]"
      ]
     },
     "execution_count": 16,
     "metadata": {},
     "output_type": "execute_result"
    }
   ],
   "source": [
    "l2_str"
   ]
  },
  {
   "cell_type": "code",
   "execution_count": 17,
   "id": "6f599272-f944-400e-8023-44400c9f9ec7",
   "metadata": {},
   "outputs": [
    {
     "data": {
      "text/plain": [
       "['reets', 98, 67, 35.7, True, 'reena']"
      ]
     },
     "execution_count": 17,
     "metadata": {},
     "output_type": "execute_result"
    }
   ],
   "source": [
    "l"
   ]
  },
  {
   "cell_type": "code",
   "execution_count": 23,
   "id": "541abeef-0a7b-43d1-be24-ab219ed1b2c9",
   "metadata": {},
   "outputs": [],
   "source": [
    "l1_num=[]\n",
    "l2_str=[]\n",
    "\n",
    "for i in l:\n",
    "    if type(i)==int or float:\n",
    "        l1_num.append(i)\n",
    "    else:\n",
    "        l2_str.append(i)\n",
    "\n",
    "        "
   ]
  },
  {
   "cell_type": "code",
   "execution_count": 24,
   "id": "bdda1d29-3606-48ca-86d4-fa011b880286",
   "metadata": {},
   "outputs": [
    {
     "data": {
      "text/plain": [
       "['reets', 98, 67, 35.7, True, 'reena']"
      ]
     },
     "execution_count": 24,
     "metadata": {},
     "output_type": "execute_result"
    }
   ],
   "source": [
    "l1_num"
   ]
  },
  {
   "cell_type": "code",
   "execution_count": null,
   "id": "2b0da79f-75e3-4420-bd3c-c0917bab076e",
   "metadata": {},
   "outputs": [],
   "source": []
  }
 ],
 "metadata": {
  "kernelspec": {
   "display_name": "Python 3 (ipykernel)",
   "language": "python",
   "name": "python3"
  },
  "language_info": {
   "codemirror_mode": {
    "name": "ipython",
    "version": 3
   },
   "file_extension": ".py",
   "mimetype": "text/x-python",
   "name": "python",
   "nbconvert_exporter": "python",
   "pygments_lexer": "ipython3",
   "version": "3.10.8"
  }
 },
 "nbformat": 4,
 "nbformat_minor": 5
}
